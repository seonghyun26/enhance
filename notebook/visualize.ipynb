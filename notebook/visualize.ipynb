{
 "cells": [
  {
   "cell_type": "code",
   "execution_count": 15,
   "id": "1262abfd-aa1f-4ee2-ab01-4713d87f8ee6",
   "metadata": {},
   "outputs": [
    {
     "data": {
      "application/3dmoljs_load.v0": "<div id=\"3dmolviewer_17372808636815104\"  style=\"position: relative; width: 800px; height: 600px;\">\n        <p id=\"3dmolwarning_17372808636815104\" style=\"background-color:#ffcccc;color:black\">3Dmol.js failed to load for some reason.  Please check your browser console for error messages.<br></p>\n        </div>\n<script>\n\nvar loadScriptAsync = function(uri){\n  return new Promise((resolve, reject) => {\n    //this is to ignore the existence of requirejs amd\n    var savedexports, savedmodule;\n    if (typeof exports !== 'undefined') savedexports = exports;\n    else exports = {}\n    if (typeof module !== 'undefined') savedmodule = module;\n    else module = {}\n\n    var tag = document.createElement('script');\n    tag.src = uri;\n    tag.async = true;\n    tag.onload = () => {\n        exports = savedexports;\n        module = savedmodule;\n        resolve();\n    };\n  var firstScriptTag = document.getElementsByTagName('script')[0];\n  firstScriptTag.parentNode.insertBefore(tag, firstScriptTag);\n});\n};\n\nif(typeof $3Dmolpromise === 'undefined') {\n$3Dmolpromise = null;\n  $3Dmolpromise = loadScriptAsync('https://cdnjs.cloudflare.com/ajax/libs/3Dmol/2.4.2/3Dmol-min.js');\n}\n\nvar viewer_17372808636815104 = null;\nvar warn = document.getElementById(\"3dmolwarning_17372808636815104\");\nif(warn) {\n    warn.parentNode.removeChild(warn);\n}\n$3Dmolpromise.then(function() {\nviewer_17372808636815104 = $3Dmol.createViewer(document.getElementById(\"3dmolviewer_17372808636815104\"),{backgroundColor:\"white\"});\nviewer_17372808636815104.zoomTo();\n\tviewer_17372808636815104.addModel(\"REMARK   1 CREATED WITH MDTraj 1.9.9, 2024-06-20\\nCRYST1  130.233  130.233  130.233  90.00  90.00  90.00 P 1           1\\nATOM      1  H   ACE A   1      15.100  12.940  29.390  1.00  0.00           H\\nATOM      2  C   ACE A   1      14.970  13.860  29.960  1.00  0.00           C\\nATOM      3  H   ACE A   1      15.720  13.820  30.760  1.00  0.00           H\\nATOM      4  H   ACE A   1      13.980  13.920  30.410  1.00  0.00           H\\nATOM      5  C   ACE A   1      15.300  15.070  29.100  1.00  0.00           C\\nATOM      6  O   ACE A   1      15.760  16.040  29.680  1.00  0.00           O\\nATOM      7  N   ALA A   2      14.940  14.990  27.830  1.00  0.00           N\\nATOM      8  H   ALA A   2      14.530  14.120  27.510  1.00  0.00           H\\nATOM      9  C   ALA A   2      14.780  16.060  26.870  1.00  0.00           C\\nATOM     10  H   ALA A   2      14.690  17.020  27.390  1.00  0.00           H\\nATOM     11  C   ALA A   2      15.990  16.140  25.940  1.00  0.00           C\\nATOM     12  H   ALA A   2      16.060  16.980  25.250  1.00  0.00           H\\nATOM     13  H   ALA A   2      16.810  16.300  26.640  1.00  0.00           H\\nATOM     14  H   ALA A   2      16.060  15.220  25.370  1.00  0.00           H\\nATOM     15  C   ALA A   2      13.530  15.920  26.050  1.00  0.00           C\\nATOM     16  O   ALA A   2      13.060  14.750  25.900  1.00  0.00           O\\nATOM     17  N   NME A   3      12.970  17.000  25.590  1.00  0.00           N\\nATOM     18  H   NME A   3      13.400  17.900  25.770  1.00  0.00           H\\nATOM     19  C   NME A   3      11.670  16.980  24.880  1.00  0.00           C\\nATOM     20  H   NME A   3      11.030  17.750  25.320  1.00  0.00           H\\nATOM     21  H   NME A   3      11.740  17.240  23.820  1.00  0.00           H\\nATOM     22  H   NME A   3      11.090  16.080  25.080  1.00  0.00           H\\nEND\\n\",\"pdb\");\n\tviewer_17372808636815104.setStyle({\"stick\": {\"radius\": 0.2}, \"sphere\": {\"scale\": 0.3}});\n\tviewer_17372808636815104.zoomTo();\nviewer_17372808636815104.render();\n});\n</script>",
      "text/html": [
       "<div id=\"3dmolviewer_17372808636815104\"  style=\"position: relative; width: 800px; height: 600px;\">\n",
       "        <p id=\"3dmolwarning_17372808636815104\" style=\"background-color:#ffcccc;color:black\">3Dmol.js failed to load for some reason.  Please check your browser console for error messages.<br></p>\n",
       "        </div>\n",
       "<script>\n",
       "\n",
       "var loadScriptAsync = function(uri){\n",
       "  return new Promise((resolve, reject) => {\n",
       "    //this is to ignore the existence of requirejs amd\n",
       "    var savedexports, savedmodule;\n",
       "    if (typeof exports !== 'undefined') savedexports = exports;\n",
       "    else exports = {}\n",
       "    if (typeof module !== 'undefined') savedmodule = module;\n",
       "    else module = {}\n",
       "\n",
       "    var tag = document.createElement('script');\n",
       "    tag.src = uri;\n",
       "    tag.async = true;\n",
       "    tag.onload = () => {\n",
       "        exports = savedexports;\n",
       "        module = savedmodule;\n",
       "        resolve();\n",
       "    };\n",
       "  var firstScriptTag = document.getElementsByTagName('script')[0];\n",
       "  firstScriptTag.parentNode.insertBefore(tag, firstScriptTag);\n",
       "});\n",
       "};\n",
       "\n",
       "if(typeof $3Dmolpromise === 'undefined') {\n",
       "$3Dmolpromise = null;\n",
       "  $3Dmolpromise = loadScriptAsync('https://cdnjs.cloudflare.com/ajax/libs/3Dmol/2.4.2/3Dmol-min.js');\n",
       "}\n",
       "\n",
       "var viewer_17372808636815104 = null;\n",
       "var warn = document.getElementById(\"3dmolwarning_17372808636815104\");\n",
       "if(warn) {\n",
       "    warn.parentNode.removeChild(warn);\n",
       "}\n",
       "$3Dmolpromise.then(function() {\n",
       "viewer_17372808636815104 = $3Dmol.createViewer(document.getElementById(\"3dmolviewer_17372808636815104\"),{backgroundColor:\"white\"});\n",
       "viewer_17372808636815104.zoomTo();\n",
       "\tviewer_17372808636815104.addModel(\"REMARK   1 CREATED WITH MDTraj 1.9.9, 2024-06-20\\nCRYST1  130.233  130.233  130.233  90.00  90.00  90.00 P 1           1\\nATOM      1  H   ACE A   1      15.100  12.940  29.390  1.00  0.00           H\\nATOM      2  C   ACE A   1      14.970  13.860  29.960  1.00  0.00           C\\nATOM      3  H   ACE A   1      15.720  13.820  30.760  1.00  0.00           H\\nATOM      4  H   ACE A   1      13.980  13.920  30.410  1.00  0.00           H\\nATOM      5  C   ACE A   1      15.300  15.070  29.100  1.00  0.00           C\\nATOM      6  O   ACE A   1      15.760  16.040  29.680  1.00  0.00           O\\nATOM      7  N   ALA A   2      14.940  14.990  27.830  1.00  0.00           N\\nATOM      8  H   ALA A   2      14.530  14.120  27.510  1.00  0.00           H\\nATOM      9  C   ALA A   2      14.780  16.060  26.870  1.00  0.00           C\\nATOM     10  H   ALA A   2      14.690  17.020  27.390  1.00  0.00           H\\nATOM     11  C   ALA A   2      15.990  16.140  25.940  1.00  0.00           C\\nATOM     12  H   ALA A   2      16.060  16.980  25.250  1.00  0.00           H\\nATOM     13  H   ALA A   2      16.810  16.300  26.640  1.00  0.00           H\\nATOM     14  H   ALA A   2      16.060  15.220  25.370  1.00  0.00           H\\nATOM     15  C   ALA A   2      13.530  15.920  26.050  1.00  0.00           C\\nATOM     16  O   ALA A   2      13.060  14.750  25.900  1.00  0.00           O\\nATOM     17  N   NME A   3      12.970  17.000  25.590  1.00  0.00           N\\nATOM     18  H   NME A   3      13.400  17.900  25.770  1.00  0.00           H\\nATOM     19  C   NME A   3      11.670  16.980  24.880  1.00  0.00           C\\nATOM     20  H   NME A   3      11.030  17.750  25.320  1.00  0.00           H\\nATOM     21  H   NME A   3      11.740  17.240  23.820  1.00  0.00           H\\nATOM     22  H   NME A   3      11.090  16.080  25.080  1.00  0.00           H\\nEND\\n\",\"pdb\");\n",
       "\tviewer_17372808636815104.setStyle({\"stick\": {\"radius\": 0.2}, \"sphere\": {\"scale\": 0.3}});\n",
       "\tviewer_17372808636815104.zoomTo();\n",
       "viewer_17372808636815104.render();\n",
       "});\n",
       "</script>"
      ]
     },
     "metadata": {},
     "output_type": "display_data"
    }
   ],
   "source": [
    "import py3Dmol\n",
    "\n",
    "# Load the PDB file as a string\n",
    "with open(\"/home/guest_sky/geodesic-interpolation-cv/simulations/aldp/data/plumed_topo.pdb\", \"r\") as file:\n",
    "    pdb_data = file.read()\n",
    "\n",
    "# Create a viewer object\n",
    "view = py3Dmol.view(width=800, height=600)\n",
    "\n",
    "# Add the PDB model to the viewer\n",
    "view.addModel(pdb_data, \"pdb\")\n",
    "\n",
    "# Set the ball-and-stick style\n",
    "view.setStyle({\"stick\": {\"radius\": 0.2}, \"sphere\": {\"scale\": 0.3}})  # Adjust radius and scale as needed\n",
    "# Zoom and show the structure\n",
    "view.zoomTo()\n",
    "view.show()"
   ]
  },
  {
   "cell_type": "code",
   "execution_count": null,
   "id": "ec4fdccc-7afd-414d-918d-577d28c9589b",
   "metadata": {},
   "outputs": [],
   "source": []
  }
 ],
 "metadata": {
  "kernelspec": {
   "display_name": "Python 3 (ipykernel)",
   "language": "python",
   "name": "python3"
  },
  "language_info": {
   "codemirror_mode": {
    "name": "ipython",
    "version": 3
   },
   "file_extension": ".py",
   "mimetype": "text/x-python",
   "name": "python",
   "nbconvert_exporter": "python",
   "pygments_lexer": "ipython3",
   "version": "3.10.16"
  }
 },
 "nbformat": 4,
 "nbformat_minor": 5
}
