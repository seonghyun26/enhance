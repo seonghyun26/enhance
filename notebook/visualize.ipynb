{
 "cells": [
  {
   "cell_type": "code",
   "execution_count": 2,
   "id": "1262abfd-aa1f-4ee2-ab01-4713d87f8ee6",
   "metadata": {},
   "outputs": [
    {
     "data": {
      "application/3dmoljs_load.v0": "<div id=\"3dmolviewer_17383797296694663\"  style=\"position: relative; width: 800px; height: 600px;\">\n        <p id=\"3dmolwarning_17383797296694663\" style=\"background-color:#ffcccc;color:black\">3Dmol.js failed to load for some reason.  Please check your browser console for error messages.<br></p>\n        </div>\n<script>\n\nvar loadScriptAsync = function(uri){\n  return new Promise((resolve, reject) => {\n    //this is to ignore the existence of requirejs amd\n    var savedexports, savedmodule;\n    if (typeof exports !== 'undefined') savedexports = exports;\n    else exports = {}\n    if (typeof module !== 'undefined') savedmodule = module;\n    else module = {}\n\n    var tag = document.createElement('script');\n    tag.src = uri;\n    tag.async = true;\n    tag.onload = () => {\n        exports = savedexports;\n        module = savedmodule;\n        resolve();\n    };\n  var firstScriptTag = document.getElementsByTagName('script')[0];\n  firstScriptTag.parentNode.insertBefore(tag, firstScriptTag);\n});\n};\n\nif(typeof $3Dmolpromise === 'undefined') {\n$3Dmolpromise = null;\n  $3Dmolpromise = loadScriptAsync('https://cdnjs.cloudflare.com/ajax/libs/3Dmol/2.4.2/3Dmol-min.js');\n}\n\nvar viewer_17383797296694663 = null;\nvar warn = document.getElementById(\"3dmolwarning_17383797296694663\");\nif(warn) {\n    warn.parentNode.removeChild(warn);\n}\n$3Dmolpromise.then(function() {\nviewer_17383797296694663 = $3Dmol.createViewer(document.getElementById(\"3dmolviewer_17383797296694663\"),{backgroundColor:\"white\"});\nviewer_17383797296694663.zoomTo();\n\tviewer_17383797296694663.addModel(\"REMARK   1 CREATED WITH OPENMM 7.1.1, 2017-09-12\\nCRYST1   25.580   25.580   25.580  90.00  90.00  90.00 P 1           1 \\nHETATM    1 H1   ACE A   1      15.100  12.940  29.390   1.00   0.00           H \\nHETATM    2 CH3  ACE A   1      14.970  13.860  29.960   1.00   0.00           C \\nHETATM    3 H2   ACE A   1      15.715  13.820  30.755   1.00   0.00           H \\nHETATM    4 H3   ACE A   1      13.979  13.920  30.410   1.00   0.00           H \\nHETATM    5 C    ACE A   1      15.300  15.070  29.100   1.00   0.00           C \\nHETATM    6 O    ACE A   1      15.760  16.040  29.680   1.00   0.00           O \\nATOM      7 N    ALA A   2      14.940  14.990  27.830   1.00   0.00           N \\nATOM      8 H    ALA A   2      14.531  14.123  27.511   1.00   0.00           H \\nATOM      9 CA   ALA A   2      14.780  16.060  26.870   1.00   0.00           C \\nATOM     10 HA   ALA A   2      14.690  17.016  27.388   1.00   0.00           H \\nATOM     11 CB   ALA A   2      15.990  16.140  25.940   1.00   0.00           C \\nATOM     12 HB1  ALA A   2      16.060  16.981  25.250   1.00   0.00           H \\nATOM     13 HB2  ALA A   2      16.810  16.300  26.640   1.00   0.00           H \\nATOM     14 HB3  ALA A   2      16.060  15.216  25.367   1.00   0.00           H \\nATOM     15 C    ALA A   2      13.530  15.920  26.050   1.00   0.00           C \\nATOM     16 O    ALA A   2      13.060  14.750  25.900   1.00   0.00           O \\nHETATM   17 N    NME A   3      12.970  17.000  25.590   1.00   0.00           N \\nHETATM   18 H    NME A   3      13.399  17.897  25.769   1.00   0.00           H \\nHETATM   19 C    NME A   3      11.670  16.980  24.880   1.00   0.00           C \\nHETATM   20 H1   NME A   3      11.032  17.748  25.319   1.00   0.00           H \\nHETATM   21 H2   NME A   3      11.740  17.239  23.823   1.00   0.00           H \\nHETATM   22 H3   NME A   3      11.090  16.080  25.080   1.00   0.00           H \\nTER      23      NME A   3\\n\\nCONECT    1    2\\nCONECT    2    5    1    3    4\\nCONECT    3    2\\nCONECT    4    2\\nCONECT    5    2    6    7\\nCONECT    6    5\\nCONECT    7    5\\nCONECT   15   17\\nCONECT   17   15   19   18\\nCONECT   18   17\\nCONECT   19   20   21   22   17\\nCONECT   20   19\\nCONECT   21   19\\nCONECT   22   19\\nEND\\n\",\"pdb\");\n\tviewer_17383797296694663.setStyle({\"stick\": {\"radius\": 0.2}, \"sphere\": {\"scale\": 0.3}});\n\tviewer_17383797296694663.zoomTo();\nviewer_17383797296694663.render();\n});\n</script>",
      "text/html": [
       "<div id=\"3dmolviewer_17383797296694663\"  style=\"position: relative; width: 800px; height: 600px;\">\n",
       "        <p id=\"3dmolwarning_17383797296694663\" style=\"background-color:#ffcccc;color:black\">3Dmol.js failed to load for some reason.  Please check your browser console for error messages.<br></p>\n",
       "        </div>\n",
       "<script>\n",
       "\n",
       "var loadScriptAsync = function(uri){\n",
       "  return new Promise((resolve, reject) => {\n",
       "    //this is to ignore the existence of requirejs amd\n",
       "    var savedexports, savedmodule;\n",
       "    if (typeof exports !== 'undefined') savedexports = exports;\n",
       "    else exports = {}\n",
       "    if (typeof module !== 'undefined') savedmodule = module;\n",
       "    else module = {}\n",
       "\n",
       "    var tag = document.createElement('script');\n",
       "    tag.src = uri;\n",
       "    tag.async = true;\n",
       "    tag.onload = () => {\n",
       "        exports = savedexports;\n",
       "        module = savedmodule;\n",
       "        resolve();\n",
       "    };\n",
       "  var firstScriptTag = document.getElementsByTagName('script')[0];\n",
       "  firstScriptTag.parentNode.insertBefore(tag, firstScriptTag);\n",
       "});\n",
       "};\n",
       "\n",
       "if(typeof $3Dmolpromise === 'undefined') {\n",
       "$3Dmolpromise = null;\n",
       "  $3Dmolpromise = loadScriptAsync('https://cdnjs.cloudflare.com/ajax/libs/3Dmol/2.4.2/3Dmol-min.js');\n",
       "}\n",
       "\n",
       "var viewer_17383797296694663 = null;\n",
       "var warn = document.getElementById(\"3dmolwarning_17383797296694663\");\n",
       "if(warn) {\n",
       "    warn.parentNode.removeChild(warn);\n",
       "}\n",
       "$3Dmolpromise.then(function() {\n",
       "viewer_17383797296694663 = $3Dmol.createViewer(document.getElementById(\"3dmolviewer_17383797296694663\"),{backgroundColor:\"white\"});\n",
       "viewer_17383797296694663.zoomTo();\n",
       "\tviewer_17383797296694663.addModel(\"REMARK   1 CREATED WITH OPENMM 7.1.1, 2017-09-12\\nCRYST1   25.580   25.580   25.580  90.00  90.00  90.00 P 1           1 \\nHETATM    1 H1   ACE A   1      15.100  12.940  29.390   1.00   0.00           H \\nHETATM    2 CH3  ACE A   1      14.970  13.860  29.960   1.00   0.00           C \\nHETATM    3 H2   ACE A   1      15.715  13.820  30.755   1.00   0.00           H \\nHETATM    4 H3   ACE A   1      13.979  13.920  30.410   1.00   0.00           H \\nHETATM    5 C    ACE A   1      15.300  15.070  29.100   1.00   0.00           C \\nHETATM    6 O    ACE A   1      15.760  16.040  29.680   1.00   0.00           O \\nATOM      7 N    ALA A   2      14.940  14.990  27.830   1.00   0.00           N \\nATOM      8 H    ALA A   2      14.531  14.123  27.511   1.00   0.00           H \\nATOM      9 CA   ALA A   2      14.780  16.060  26.870   1.00   0.00           C \\nATOM     10 HA   ALA A   2      14.690  17.016  27.388   1.00   0.00           H \\nATOM     11 CB   ALA A   2      15.990  16.140  25.940   1.00   0.00           C \\nATOM     12 HB1  ALA A   2      16.060  16.981  25.250   1.00   0.00           H \\nATOM     13 HB2  ALA A   2      16.810  16.300  26.640   1.00   0.00           H \\nATOM     14 HB3  ALA A   2      16.060  15.216  25.367   1.00   0.00           H \\nATOM     15 C    ALA A   2      13.530  15.920  26.050   1.00   0.00           C \\nATOM     16 O    ALA A   2      13.060  14.750  25.900   1.00   0.00           O \\nHETATM   17 N    NME A   3      12.970  17.000  25.590   1.00   0.00           N \\nHETATM   18 H    NME A   3      13.399  17.897  25.769   1.00   0.00           H \\nHETATM   19 C    NME A   3      11.670  16.980  24.880   1.00   0.00           C \\nHETATM   20 H1   NME A   3      11.032  17.748  25.319   1.00   0.00           H \\nHETATM   21 H2   NME A   3      11.740  17.239  23.823   1.00   0.00           H \\nHETATM   22 H3   NME A   3      11.090  16.080  25.080   1.00   0.00           H \\nTER      23      NME A   3\\n\\nCONECT    1    2\\nCONECT    2    5    1    3    4\\nCONECT    3    2\\nCONECT    4    2\\nCONECT    5    2    6    7\\nCONECT    6    5\\nCONECT    7    5\\nCONECT   15   17\\nCONECT   17   15   19   18\\nCONECT   18   17\\nCONECT   19   20   21   22   17\\nCONECT   20   19\\nCONECT   21   19\\nCONECT   22   19\\nEND\\n\",\"pdb\");\n",
       "\tviewer_17383797296694663.setStyle({\"stick\": {\"radius\": 0.2}, \"sphere\": {\"scale\": 0.3}});\n",
       "\tviewer_17383797296694663.zoomTo();\n",
       "viewer_17383797296694663.render();\n",
       "});\n",
       "</script>"
      ]
     },
     "metadata": {},
     "output_type": "display_data"
    }
   ],
   "source": [
    "import py3Dmol\n",
    "\n",
    "# Load the PDB file as a string\n",
    "# with open(\"/home/guest_sky/enhance/simulations/aldp/data/plumed_topo.pdb\", \"r\") as file:\n",
    "#     pdb_data = file.read()\n",
    "\n",
    "with open(\"/home/guest_sky/enhance/pos.pdb\", \"r\") as file:\n",
    "    pdb_data = file.read()\n",
    "\n",
    "# Create a viewer object\n",
    "view = py3Dmol.view(width=800, height=600)\n",
    "\n",
    "# Add the PDB model to the viewer\n",
    "view.addModel(pdb_data, \"pdb\")\n",
    "\n",
    "# Set the ball-and-stick style\n",
    "view.setStyle({\"stick\": {\"radius\": 0.2}, \"sphere\": {\"scale\": 0.3}})  # Adjust radius and scale as needed\n",
    "# Zoom and show the structure\n",
    "view.zoomTo()\n",
    "view.show()"
   ]
  },
  {
   "cell_type": "code",
   "execution_count": null,
   "id": "ec4fdccc-7afd-414d-918d-577d28c9589b",
   "metadata": {},
   "outputs": [],
   "source": []
  }
 ],
 "metadata": {
  "kernelspec": {
   "display_name": "geodesic-cv",
   "language": "python",
   "name": "python3"
  },
  "language_info": {
   "codemirror_mode": {
    "name": "ipython",
    "version": 3
   },
   "file_extension": ".py",
   "mimetype": "text/x-python",
   "name": "python",
   "nbconvert_exporter": "python",
   "pygments_lexer": "ipython3",
   "version": "3.10.16"
  }
 },
 "nbformat": 4,
 "nbformat_minor": 5
}
